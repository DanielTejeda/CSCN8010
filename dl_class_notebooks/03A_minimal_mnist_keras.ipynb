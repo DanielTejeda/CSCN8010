{
 "cells": [
  {
   "attachments": {},
   "cell_type": "markdown",
   "metadata": {},
   "source": [
    "# Multiclass Classification - a Simple Keras Model (MNIST)\n",
    "Adapted from [Chollet notebook 2](https://github.com/fchollet/deep-learning-with-python-notebooks/blob/master/chapter02_mathematical-building-blocks.ipynb).\n",
    "Presented here in accordance with the MIT license.\n",
    "\n",
    "The objectives of this notebooks are:\n",
    "1. Get to know the Keras framework and how it corresponds to the Tensorflow API, specifically:\n",
    "     * `keras.Sequential` - define a sequential model\n",
    "     * `model.compile` - config the model, e.g. with losses and metrics\n",
    "     * `model.fit` - train the model\n",
    "     * `model.predict` - run inference with the model\n",
    "     * `tf.keras.models.save_model`\n",
    "2. `softmax` \n",
    "3. `sparse_categorical_crossentropy`"
   ]
  },
  {
   "cell_type": "code",
   "execution_count": 1,
   "metadata": {},
   "outputs": [],
   "source": [
    "from tensorflow.keras.datasets import mnist\n",
    "from tensorflow import keras\n",
    "from tensorflow.keras import layers\n",
    "import tensorflow as tf"
   ]
  },
  {
   "attachments": {},
   "cell_type": "markdown",
   "metadata": {},
   "source": [
    "## Get the Data"
   ]
  },
  {
   "attachments": {},
   "cell_type": "markdown",
   "metadata": {},
   "source": [
    "* Here we will use [tensorflow.keras.datasets](https://keras.io/api/datasets/) as our data repository. It provides API access to a collection of a few toy datasets (in numpy format) that can be used to train and test simple models.\n",
    "* [MNIST](https://keras.io/api/datasets/mnist/) is a dataset of 60,000 28x28 grayscale images of the 10 digits (0-9), along with a test set of 10,000 images."
   ]
  },
  {
   "cell_type": "code",
   "execution_count": 2,
   "metadata": {},
   "outputs": [
    {
     "name": "stdout",
     "output_type": "stream",
     "text": [
      "Downloading data from https://storage.googleapis.com/tensorflow/tf-keras-datasets/mnist.npz\n",
      "11490434/11490434 [==============================] - 4s 0us/step\n"
     ]
    }
   ],
   "source": [
    "(train_images, train_labels), (test_images, test_labels) = mnist.load_data()"
   ]
  },
  {
   "attachments": {},
   "cell_type": "markdown",
   "metadata": {},
   "source": [
    "## Data Exploration"
   ]
  },
  {
   "cell_type": "code",
   "execution_count": 3,
   "metadata": {},
   "outputs": [
    {
     "name": "stdout",
     "output_type": "stream",
     "text": [
      "Image DType: <class 'numpy.ndarray'>\n",
      "Image Element DType: <class 'numpy.uint8'>\n",
      "Label Element DType: <class 'numpy.uint8'>\n",
      "**Shapes:**\n",
      "Train Data:\n",
      "Images: (60000, 28, 28)\n",
      "Labels: (60000,)\n",
      "Test Data:\n",
      "Images: (10000, 28, 28)\n",
      "Labels: (10000,)\n",
      "Image Data Range:\n",
      "Min: 0\n",
      "Max: 255\n"
     ]
    }
   ],
   "source": [
    "print(f'Image DType: {type(train_images)}')\n",
    "print(f'Image Element DType: {type(train_images[0,0,0])}')\n",
    "print(f'Label Element DType: {type(train_labels[0])}')\n",
    "print('**Shapes:**')\n",
    "print('Train Data:')\n",
    "print(f'Images: {train_images.shape}')\n",
    "print(f'Labels: {train_labels.shape}')\n",
    "print('Test Data:')  # the text images should be a random sample of the overall test set, and hence should have the same type, shape and image-size as the overall train set\n",
    "print(f'Images: {test_images.shape}')\n",
    "print(f'Labels: {test_labels.shape}')\n",
    "print('Image Data Range:')\n",
    "print(f'Min: {train_images.min()}')\n",
    "print(f'Max: {train_images.max()}')"
   ]
  },
  {
   "cell_type": "code",
   "execution_count": 4,
   "metadata": {},
   "outputs": [
    {
     "data": {
      "text/plain": [
       "<matplotlib.image.AxesImage at 0x16b44bab590>"
      ]
     },
     "execution_count": 4,
     "metadata": {},
     "output_type": "execute_result"
    },
    {
     "data": {
      "image/png": "[encoded data removed]",
      "text/plain": [
       "<Figure size 640x480 with 1 Axes>"
      ]
     },
     "metadata": {},
     "output_type": "display_data"
    }
   ],
   "source": [
    "# plot the first image in the training set in grayscale\n",
    "import matplotlib.pyplot as plt\n",
    "plt.imshow(train_images[1], cmap='gray')  # to understand how a matrix of numbers is converted to an image, have a look at: https://matplotlib.org/stable/api/_as_gen/matplotlib.pyplot.imshow.html"
   ]
  },
  {
   "cell_type": "code",
   "execution_count": 5,
   "metadata": {},
   "outputs": [
    {
     "name": "stdout",
     "output_type": "stream",
     "text": [
      "Label: 0\n"
     ]
    }
   ],
   "source": [
    "# print the label of the first image in the training set   \n",
    "print(f'Label: {train_labels[1]}')"
   ]
  },
  {
   "attachments": {},
   "cell_type": "markdown",
   "metadata": {},
   "source": [
    "* To get familiar with the data, print out the first 5 images and labels in the training set and the first 5 images and labels in the test set\n",
    "* Run the `imshow` below without the `cmap='gray'` argument, and see what happens\n",
    "* What additional data explorations would you like to test, and what would be the motivation for each?\n",
    "* What is the distribution of the labels in the training set? What is the distribution of the labels in the test set?\n",
    "* What is the distribution of the pixel values in the training set? What is the distribution of the pixel values in the test set?"
   ]
  },
  {
   "attachments": {},
   "cell_type": "markdown",
   "metadata": {},
   "source": [
    "## Data preprocessing"
   ]
  },
  {
   "cell_type": "code",
   "execution_count": 6,
   "metadata": {},
   "outputs": [],
   "source": [
    "train_images = train_images.reshape((60000, 28 * 28))  # flattening the 28x28 image into dim=1 (784,) vector (and over all images in the training set)\n",
    "test_images = test_images.reshape((10000, 28 * 28))\n",
    "\n",
    "train_images = train_images.astype(\"float32\") / 255  # normalizing the data to the range [0,1] by min-max range, and casting it to float32\n",
    "test_images = test_images.astype(\"float32\") / 255"
   ]
  },
  {
   "cell_type": "code",
   "execution_count": 7,
   "metadata": {},
   "outputs": [
    {
     "name": "stdout",
     "output_type": "stream",
     "text": [
      "0.0\n",
      "1.0\n",
      "(60000, 784)\n",
      "(784,)\n"
     ]
    }
   ],
   "source": [
    "print(train_images.min())\n",
    "print(train_images.max())\n",
    "print(train_images.shape)\n",
    "print(train_images[0].shape)"
   ]
  },
  {
   "attachments": {},
   "cell_type": "markdown",
   "metadata": {},
   "source": [
    "Notice that despite the normalization, the image is still the same (this is a matplotlib feature, to read more see imshow documentation):"
   ]
  },
  {
   "cell_type": "code",
   "execution_count": 8,
   "metadata": {},
   "outputs": [
    {
     "data": {
      "text/plain": [
       "<matplotlib.image.AxesImage at 0x16b4517d850>"
      ]
     },
     "execution_count": 8,
     "metadata": {},
     "output_type": "execute_result"
    },
    {
     "data": {
      "image/png": "[encoded data removed]",
      "text/plain": [
       "<Figure size 640x480 with 1 Axes>"
      ]
     },
     "metadata": {},
     "output_type": "display_data"
    }
   ],
   "source": [
    "plt.imshow(train_images[0].reshape(28,28), cmap='gray')"
   ]
  },
  {
   "attachments": {},
   "cell_type": "markdown",
   "metadata": {},
   "source": [
    "## Define the model\n",
    "How many neurons does each layer have?"
   ]
  },
  {
   "cell_type": "code",
   "execution_count": 9,
   "metadata": {},
   "outputs": [],
   "source": [
    "model = keras.Sequential([\n",
    "    layers.Dense(512, activation=\"relu\"),\n",
    "    layers.Dense(10, activation=\"softmax\")\n",
    "])"
   ]
  },
  {
   "attachments": {},
   "cell_type": "markdown",
   "metadata": {},
   "source": [
    "## Define the Loss Function, Optimizer and Metrics"
   ]
  },
  {
   "cell_type": "code",
   "execution_count": 10,
   "metadata": {},
   "outputs": [],
   "source": [
    "model.compile(optimizer=\"rmsprop\",  # RMSProp is discussed in the Optimizers section\n",
    "              loss=\"sparse_categorical_crossentropy\",\n",
    "              metrics=[\"accuracy\"])"
   ]
  },
  {
   "attachments": {},
   "cell_type": "markdown",
   "metadata": {},
   "source": [
    "## Training (\"Fitting\") the model"
   ]
  },
  {
   "cell_type": "code",
   "execution_count": 12,
   "metadata": {},
   "outputs": [
    {
     "name": "stdout",
     "output_type": "stream",
     "text": [
      "Epoch 1/5\n",
      "469/469 [==============================] - 3s 6ms/step - loss: 0.0284 - accuracy: 0.9916\n",
      "Epoch 2/5\n",
      "469/469 [==============================] - 3s 6ms/step - loss: 0.0220 - accuracy: 0.9936\n",
      "Epoch 3/5\n",
      "469/469 [==============================] - 3s 6ms/step - loss: 0.0167 - accuracy: 0.9952\n",
      "Epoch 4/5\n",
      "469/469 [==============================] - 3s 6ms/step - loss: 0.0125 - accuracy: 0.9968\n",
      "Epoch 5/5\n",
      "469/469 [==============================] - 3s 6ms/step - loss: 0.0093 - accuracy: 0.9977\n"
     ]
    },
    {
     "data": {
      "text/plain": [
       "<keras.callbacks.History at 0x16b40fc9310>"
      ]
     },
     "execution_count": 12,
     "metadata": {},
     "output_type": "execute_result"
    }
   ],
   "source": [
    "model.fit(train_images, train_labels, epochs=5, batch_size=128)"
   ]
  },
  {
   "attachments": {},
   "cell_type": "markdown",
   "metadata": {},
   "source": [
    "## Inference: Using the Model to Make Predictions"
   ]
  },
  {
   "cell_type": "code",
   "execution_count": 13,
   "metadata": {},
   "outputs": [
    {
     "data": {
      "text/plain": [
       "<matplotlib.image.AxesImage at 0x16b44ff4890>"
      ]
     },
     "execution_count": 13,
     "metadata": {},
     "output_type": "execute_result"
    },
    {
     "data": {
      "image/png": "[encoded data removed]",
      "text/plain": [
       "<Figure size 640x480 with 1 Axes>"
      ]
     },
     "metadata": {},
     "output_type": "display_data"
    }
   ],
   "source": [
    "plt.imshow(test_images[9].reshape(28,28), cmap='gray')  # the actual image"
   ]
  },
  {
   "cell_type": "code",
   "execution_count": 14,
   "metadata": {},
   "outputs": [
    {
     "name": "stdout",
     "output_type": "stream",
     "text": [
      "(784,)\n",
      "(1, 784)\n"
     ]
    }
   ],
   "source": [
    "# a note on shapes: the model expects a 2D array of shape (batch_size, input_dim), so we need to reshape the test image to (1, 784)\n",
    "# Compare:\n",
    "print(test_images[0].shape)  # this will result in an error if given as input to the model (since it is a 1d array)\n",
    "print(test_images[0:1].shape)  # this is a correct shape (2d)"
   ]
  },
  {
   "cell_type": "code",
   "execution_count": 15,
   "metadata": {},
   "outputs": [
    {
     "name": "stdout",
     "output_type": "stream",
     "text": [
      "1/1 [==============================] - 0s 91ms/step\n"
     ]
    }
   ],
   "source": [
    "prediction = model.predict(test_images[9:10])  # the notation `[0:1]` is used to get the first element of the array, but in the desired shape of (None, 784). `None` in Tensorflow means any number of elements, and is used to indicate that the shape is dynamic (i.e. it can be any number of instances)  "
   ]
  },
  {
   "cell_type": "code",
   "execution_count": 16,
   "metadata": {},
   "outputs": [
    {
     "data": {
      "text/plain": [
       "array([[1.0467868e-12, 1.4916368e-16, 1.6441048e-13, 4.9148767e-08,\n",
       "        2.1736763e-05, 7.7407400e-13, 3.0346565e-16, 1.2030105e-05,\n",
       "        1.5067812e-06, 9.9996459e-01]], dtype=float32)"
      ]
     },
     "execution_count": 16,
     "metadata": {},
     "output_type": "execute_result"
    }
   ],
   "source": [
    "prediction  # 10 classes, each with a probability"
   ]
  },
  {
   "cell_type": "code",
   "execution_count": 17,
   "metadata": {},
   "outputs": [
    {
     "data": {
      "text/plain": [
       "9"
      ]
     },
     "execution_count": 17,
     "metadata": {},
     "output_type": "execute_result"
    }
   ],
   "source": [
    "prediction.argmax()  # the class with the highest probability"
   ]
  },
  {
   "cell_type": "code",
   "execution_count": 18,
   "metadata": {},
   "outputs": [
    {
     "data": {
      "text/plain": [
       "0.9999646"
      ]
     },
     "execution_count": 18,
     "metadata": {},
     "output_type": "execute_result"
    }
   ],
   "source": [
    "prediction[0, 9]  # the probability of the 9th class (of the zeroth data instance)"
   ]
  },
  {
   "cell_type": "code",
   "execution_count": 19,
   "metadata": {},
   "outputs": [
    {
     "data": {
      "text/plain": [
       "9"
      ]
     },
     "execution_count": 19,
     "metadata": {},
     "output_type": "execute_result"
    }
   ],
   "source": [
    "test_labels[9]  # the actual label\n"
   ]
  },
  {
   "attachments": {},
   "cell_type": "markdown",
   "metadata": {},
   "source": [
    "## Evaluating the Model with the Test Data"
   ]
  },
  {
   "cell_type": "code",
   "execution_count": 33,
   "metadata": {},
   "outputs": [
    {
     "name": "stdout",
     "output_type": "stream",
     "text": [
      "313/313 [==============================] - 0s 990us/step\n"
     ]
    },
    {
     "ename": "TypeError",
     "evalue": "only integer scalar arrays can be converted to a scalar index",
     "output_type": "error",
     "traceback": [
      "\u001b[31m---------------------------------------------------------------------------\u001b[39m",
      "\u001b[31mTypeError\u001b[39m                                 Traceback (most recent call last)",
      "\u001b[36mCell\u001b[39m\u001b[36m \u001b[39m\u001b[32mIn[33]\u001b[39m\u001b[32m, line 5\u001b[39m\n\u001b[32m      2\u001b[39m y_predict = model_predictions.argmax(axis=\u001b[32m1\u001b[39m)  \u001b[38;5;66;03m# the class with the highest probability \u001b[39;00m\n\u001b[32m      3\u001b[39m max_plot = \u001b[32m10\u001b[39m\n\u001b[32m----> \u001b[39m\u001b[32m5\u001b[39m \u001b[38;5;28;01mfor\u001b[39;00m i \u001b[38;5;129;01min\u001b[39;00m \u001b[38;5;28;43mrange\u001b[39;49m\u001b[43m(\u001b[49m\u001b[43my_predict\u001b[49m\u001b[43m)\u001b[49m:\n\u001b[32m      6\u001b[39m     \u001b[38;5;28;01mif\u001b[39;00m y_predict[i] != test_labels[i]:\n\u001b[32m      7\u001b[39m         \u001b[38;5;28mprint\u001b[39m(\u001b[33mf\u001b[39m\u001b[33m'\u001b[39m\u001b[33mPredicted: \u001b[39m\u001b[38;5;132;01m{\u001b[39;00my_predict[i]\u001b[38;5;132;01m}\u001b[39;00m\u001b[33m, Actual: \u001b[39m\u001b[38;5;132;01m{\u001b[39;00mtest_labels[i]\u001b[38;5;132;01m}\u001b[39;00m\u001b[33m'\u001b[39m)\n",
      "\u001b[31mTypeError\u001b[39m: only integer scalar arrays can be converted to a scalar index"
     ]
    }
   ],
   "source": [
    "model_predictions = model.predict(test_images)\n",
    "y_predict = model_predictions.argmax(axis=1)  # the class with the highest probability \n",
    "max_plot = 10\n",
    "\n",
    "for i in range(y_predict):\n",
    "    if y_predict[i] != test_labels[i]:\n",
    "        print(f'Predicted: {y_predict[i]}, Actual: {test_labels[i]}')\n",
    "        plt.imshow(test_images[i].reshape(28,28), cmap='gray')\n",
    "        plt.show()\n",
    "        max_plot -= 1\n",
    "    if max_plot == 0:\n",
    "        break"
   ]
  },
  {
   "cell_type": "code",
   "execution_count": null,
   "metadata": {},
   "outputs": [
    {
     "name": "stdout",
     "output_type": "stream",
     "text": [
      "313/313 [==============================] - 0s 1ms/step - loss: 0.0620 - accuracy: 0.9829\n",
      "test_acc: 0.9829000234603882\n"
     ]
    }
   ],
   "source": [
    "test_loss, test_acc = model.evaluate(test_images, test_labels)\n",
    "print(f\"test_acc: {test_acc}\")"
   ]
  },
  {
   "cell_type": "markdown",
   "metadata": {},
   "source": [
    "# Printing out the Model Summary"
   ]
  },
  {
   "cell_type": "code",
   "execution_count": 21,
   "metadata": {},
   "outputs": [
    {
     "name": "stdout",
     "output_type": "stream",
     "text": [
      "Model: \"sequential\"\n",
      "_________________________________________________________________\n",
      " Layer (type)                Output Shape              Param #   \n",
      "=================================================================\n",
      " dense (Dense)               (None, 512)               401920    \n",
      "                                                                 \n",
      " dense_1 (Dense)             (None, 10)                5130      \n",
      "                                                                 \n",
      "=================================================================\n",
      "Total params: 407,050\n",
      "Trainable params: 407,050\n",
      "Non-trainable params: 0\n",
      "_________________________________________________________________\n"
     ]
    }
   ],
   "source": [
    "model.summary()"
   ]
  },
  {
   "cell_type": "markdown",
   "metadata": {},
   "source": [
    "# Plotting the Training and Validation Loss"
   ]
  },
  {
   "cell_type": "code",
   "execution_count": 22,
   "metadata": {},
   "outputs": [],
   "source": [
    "model = keras.Sequential([\n",
    "    layers.Dense(512, activation=\"relu\"),\n",
    "    layers.Dense(10, activation=\"softmax\")\n",
    "])\n",
    "\n",
    "model.compile(optimizer=\"rmsprop\",\n",
    "                loss=\"sparse_categorical_crossentropy\",\n",
    "                metrics=[\"accuracy\"])"
   ]
  },
  {
   "cell_type": "code",
   "execution_count": 23,
   "metadata": {},
   "outputs": [],
   "source": [
    "# first we need to define a validation set\n",
    "x_val = train_images[:10000]\n",
    "partial_x_train = train_images[10000:]\n",
    "y_val = train_labels[:10000]\n",
    "partial_y_train = train_labels[10000:]"
   ]
  },
  {
   "cell_type": "code",
   "execution_count": 24,
   "metadata": {},
   "outputs": [
    {
     "name": "stdout",
     "output_type": "stream",
     "text": [
      "Epoch 1/30\n",
      "391/391 [==============================] - 3s 6ms/step - loss: 0.2909 - accuracy: 0.9164 - val_loss: 0.1700 - val_accuracy: 0.9513\n",
      "Epoch 2/30\n",
      "391/391 [==============================] - 2s 6ms/step - loss: 0.1212 - accuracy: 0.9647 - val_loss: 0.1102 - val_accuracy: 0.9672\n",
      "Epoch 3/30\n",
      "391/391 [==============================] - 3s 8ms/step - loss: 0.0789 - accuracy: 0.9762 - val_loss: 0.0854 - val_accuracy: 0.9735\n",
      "Epoch 4/30\n",
      "391/391 [==============================] - 3s 7ms/step - loss: 0.0570 - accuracy: 0.9833 - val_loss: 0.0808 - val_accuracy: 0.9748\n",
      "Epoch 5/30\n",
      "391/391 [==============================] - 2s 6ms/step - loss: 0.0428 - accuracy: 0.9876 - val_loss: 0.0752 - val_accuracy: 0.9776\n",
      "Epoch 6/30\n",
      "391/391 [==============================] - 2s 6ms/step - loss: 0.0315 - accuracy: 0.9908 - val_loss: 0.0765 - val_accuracy: 0.9775\n",
      "Epoch 7/30\n",
      "391/391 [==============================] - 2s 6ms/step - loss: 0.0238 - accuracy: 0.9929 - val_loss: 0.0721 - val_accuracy: 0.9794\n",
      "Epoch 8/30\n",
      "391/391 [==============================] - 2s 6ms/step - loss: 0.0178 - accuracy: 0.9951 - val_loss: 0.0763 - val_accuracy: 0.9773\n",
      "Epoch 9/30\n",
      "391/391 [==============================] - 2s 5ms/step - loss: 0.0131 - accuracy: 0.9966 - val_loss: 0.0705 - val_accuracy: 0.9799\n",
      "Epoch 10/30\n",
      "391/391 [==============================] - 2s 6ms/step - loss: 0.0097 - accuracy: 0.9978 - val_loss: 0.0762 - val_accuracy: 0.9805\n",
      "Epoch 11/30\n",
      "391/391 [==============================] - 2s 5ms/step - loss: 0.0069 - accuracy: 0.9985 - val_loss: 0.0734 - val_accuracy: 0.9816\n",
      "Epoch 12/30\n",
      "391/391 [==============================] - 2s 6ms/step - loss: 0.0051 - accuracy: 0.9991 - val_loss: 0.0699 - val_accuracy: 0.9817\n",
      "Epoch 13/30\n",
      "391/391 [==============================] - 2s 6ms/step - loss: 0.0035 - accuracy: 0.9994 - val_loss: 0.0734 - val_accuracy: 0.9821\n",
      "Epoch 14/30\n",
      "391/391 [==============================] - 2s 5ms/step - loss: 0.0022 - accuracy: 0.9997 - val_loss: 0.0780 - val_accuracy: 0.9813\n",
      "Epoch 15/30\n",
      "391/391 [==============================] - 2s 5ms/step - loss: 0.0017 - accuracy: 0.9998 - val_loss: 0.0728 - val_accuracy: 0.9824\n",
      "Epoch 16/30\n",
      "391/391 [==============================] - 2s 6ms/step - loss: 0.0011 - accuracy: 0.9999 - val_loss: 0.0743 - val_accuracy: 0.9826\n",
      "Epoch 17/30\n",
      "391/391 [==============================] - 2s 6ms/step - loss: 6.8967e-04 - accuracy: 1.0000 - val_loss: 0.0759 - val_accuracy: 0.9826\n",
      "Epoch 18/30\n",
      "391/391 [==============================] - 2s 6ms/step - loss: 5.4912e-04 - accuracy: 1.0000 - val_loss: 0.0755 - val_accuracy: 0.9824\n",
      "Epoch 19/30\n",
      "391/391 [==============================] - 2s 6ms/step - loss: 4.5046e-04 - accuracy: 1.0000 - val_loss: 0.0761 - val_accuracy: 0.9827\n",
      "Epoch 20/30\n",
      "391/391 [==============================] - 2s 6ms/step - loss: 3.7653e-04 - accuracy: 1.0000 - val_loss: 0.0764 - val_accuracy: 0.9829\n",
      "Epoch 21/30\n",
      "391/391 [==============================] - 2s 6ms/step - loss: 3.3971e-04 - accuracy: 1.0000 - val_loss: 0.0783 - val_accuracy: 0.9828\n",
      "Epoch 22/30\n",
      "391/391 [==============================] - 2s 6ms/step - loss: 3.0246e-04 - accuracy: 1.0000 - val_loss: 0.0783 - val_accuracy: 0.9826\n",
      "Epoch 23/30\n",
      "391/391 [==============================] - 2s 6ms/step - loss: 2.7628e-04 - accuracy: 1.0000 - val_loss: 0.0781 - val_accuracy: 0.9830\n",
      "Epoch 24/30\n",
      "391/391 [==============================] - 2s 6ms/step - loss: 2.5258e-04 - accuracy: 1.0000 - val_loss: 0.0787 - val_accuracy: 0.9829\n",
      "Epoch 25/30\n",
      "391/391 [==============================] - 2s 6ms/step - loss: 2.3145e-04 - accuracy: 1.0000 - val_loss: 0.0793 - val_accuracy: 0.9828\n",
      "Epoch 26/30\n",
      "391/391 [==============================] - 2s 6ms/step - loss: 2.1536e-04 - accuracy: 1.0000 - val_loss: 0.0808 - val_accuracy: 0.9828\n",
      "Epoch 27/30\n",
      "391/391 [==============================] - 2s 6ms/step - loss: 2.0274e-04 - accuracy: 1.0000 - val_loss: 0.0802 - val_accuracy: 0.9831\n",
      "Epoch 28/30\n",
      "391/391 [==============================] - 2s 6ms/step - loss: 1.8911e-04 - accuracy: 1.0000 - val_loss: 0.0808 - val_accuracy: 0.9827\n",
      "Epoch 29/30\n",
      "391/391 [==============================] - 2s 6ms/step - loss: 1.7744e-04 - accuracy: 1.0000 - val_loss: 0.0815 - val_accuracy: 0.9829\n",
      "Epoch 30/30\n",
      "391/391 [==============================] - 2s 6ms/step - loss: 1.6918e-04 - accuracy: 1.0000 - val_loss: 0.0814 - val_accuracy: 0.9826\n"
     ]
    },
    {
     "data": {
      "text/plain": [
       "dict_keys(['loss', 'accuracy', 'val_loss', 'val_accuracy'])"
      ]
     },
     "execution_count": 24,
     "metadata": {},
     "output_type": "execute_result"
    }
   ],
   "source": [
    "history = model.fit(partial_x_train,\n",
    "                    partial_y_train,\n",
    "                    epochs=30,\n",
    "                    batch_size=128,\n",
    "                    validation_data=(x_val, y_val))\n",
    "\n",
    "history_dict = history.history\n",
    "history_dict.keys()"
   ]
  },
  {
   "cell_type": "code",
   "execution_count": 25,
   "metadata": {},
   "outputs": [
    {
     "data": {
      "text/plain": [
       "[0.29086506366729736,\n",
       " 0.12124323099851608,\n",
       " 0.07892835885286331,\n",
       " 0.05702829733490944,\n",
       " 0.042808741331100464,\n",
       " 0.03148161992430687,\n",
       " 0.023811182007193565,\n",
       " 0.017770683392882347,\n",
       " 0.013099356554448605,\n",
       " 0.009730055928230286,\n",
       " 0.006879453081637621,\n",
       " 0.005123806651681662,\n",
       " 0.003530648536980152,\n",
       " 0.0022431008983403444,\n",
       " 0.0016562582459300756,\n",
       " 0.0010791776003316045,\n",
       " 0.0006896671839058399,\n",
       " 0.0005491217598319054,\n",
       " 0.00045045517617836595,\n",
       " 0.00037653237814083695,\n",
       " 0.0003397093096282333,\n",
       " 0.0003024576581083238,\n",
       " 0.0002762772492133081,\n",
       " 0.0002525827439967543,\n",
       " 0.00023145343584474176,\n",
       " 0.0002153645473299548,\n",
       " 0.00020274198323022574,\n",
       " 0.00018911471124738455,\n",
       " 0.00017744279466569424,\n",
       " 0.00016917935863602906]"
      ]
     },
     "execution_count": 25,
     "metadata": {},
     "output_type": "execute_result"
    }
   ],
   "source": [
    "history_dict['loss']"
   ]
  },
  {
   "cell_type": "code",
   "execution_count": 26,
   "metadata": {},
   "outputs": [
    {
     "data": {
      "text/plain": [
       "Text(0.5, 1.0, 'Training and validation loss')"
      ]
     },
     "execution_count": 26,
     "metadata": {},
     "output_type": "execute_result"
    },
    {
     "data": {
      "image/png": "[encoded data removed]",
      "text/plain": [
       "<Figure size 900x500 with 1 Axes>"
      ]
     },
     "metadata": {},
     "output_type": "display_data"
    }
   ],
   "source": [
    "# plot the training and validation loss\n",
    "import matplotlib.pyplot as plt\n",
    "plt.figure(figsize=(9, 5))\n",
    "loss_values = history_dict[\"loss\"]\n",
    "val_loss_values = history_dict[\"val_loss\"]\n",
    "epochs = range(1, len(loss_values) + 1)\n",
    "plt.plot(epochs, loss_values, \"bo\", label=\"Training loss\")\n",
    "plt.plot(epochs, val_loss_values, \"ro\", label=\"Validation loss\")\n",
    "plt.xlabel(\"Epochs\")\n",
    "plt.xticks(epochs)\n",
    "plt.ylabel(\"Loss\")\n",
    "plt.legend()\n",
    "plt.title(\"Training and validation loss\")"
   ]
  },
  {
   "cell_type": "code",
   "execution_count": 27,
   "metadata": {},
   "outputs": [
    {
     "data": {
      "text/plain": [
       "Text(0.5, 1.0, 'Training and validation accuracy')"
      ]
     },
     "execution_count": 27,
     "metadata": {},
     "output_type": "execute_result"
    },
    {
     "data": {
      "image/png": "[encoded data removed]",
      "text/plain": [
       "<Figure size 900x500 with 1 Axes>"
      ]
     },
     "metadata": {},
     "output_type": "display_data"
    }
   ],
   "source": [
    "# plot the training and validation accuracy\n",
    "import matplotlib.pyplot as plt\n",
    "plt.figure(figsize=(9, 5))\n",
    "loss_values = history_dict[\"accuracy\"]\n",
    "val_loss_values = history_dict[\"val_accuracy\"]\n",
    "epochs = range(1, len(loss_values) + 1)\n",
    "plt.plot(epochs, loss_values, \"bo\", label=\"Training accuracy\")\n",
    "plt.plot(epochs, val_loss_values, \"ro\", label=\"Validation accuracy\")\n",
    "plt.xlabel(\"Epochs\")\n",
    "plt.xticks(epochs)\n",
    "plt.ylabel(\"Accuracy\")\n",
    "plt.legend()\n",
    "plt.title(\"Training and validation accuracy\")"
   ]
  },
  {
   "attachments": {},
   "cell_type": "markdown",
   "metadata": {},
   "source": [
    "## Saving the Model for Future Use\n",
    " This allows using the model for future inference, serving or re-training.\n",
    "\n",
    "The recommended formats is `pb` (the default), since it allows loading the model by both Keras and Native Tensorflow. The `h5` format on the other hand can be loaded only with the Keras model (which is fine, if that's how it is used. Moreover, a model can always be loaded in an `h5` format, and then saved in the `pb` format).\n",
    "\n",
    "A second choice one has to make is whether they you'd like to save the optimizer. The default saves it, and adding a flag can allow its removal. The benefit of saving the optimizer is if one is interested to continue the training from the same state of the optimizer (for instance, starting with the saved momentum, if it's a momentum-based optimizer). Training can still be done on a model without a saved optimizer, but this will be a 'fresh start'. Removing the optimizer is useful once the current training is done. An example would be when one exports the model for deployment, that is that the model will run predictions."
   ]
  },
  {
   "cell_type": "code",
   "execution_count": 34,
   "metadata": {},
   "outputs": [
    {
     "name": "stderr",
     "output_type": "stream",
     "text": [
      "WARNING:absl:Found untraced functions such as _update_step_xla while saving (showing 1 of 1). These functions will not be directly callable after loading.\n"
     ]
    },
    {
     "name": "stdout",
     "output_type": "stream",
     "text": [
      "INFO:tensorflow:Assets written to: ../models/mnist_model/keras_pb/assets\n"
     ]
    },
    {
     "name": "stderr",
     "output_type": "stream",
     "text": [
      "INFO:tensorflow:Assets written to: ../models/mnist_model/keras_pb/assets\n"
     ]
    }
   ],
   "source": [
    "# Saving with Keras, default `.pb` format\n",
    "tf.keras.models.save_model(model, '../models/mnist_model/keras_pb/')"
   ]
  },
  {
   "cell_type": "code",
   "execution_count": 35,
   "metadata": {},
   "outputs": [
    {
     "name": "stdout",
     "output_type": "stream",
     "text": [
      "INFO:tensorflow:Assets written to: ../models/mnist_model/keras_pb_no_optimizer/assets\n"
     ]
    },
    {
     "name": "stderr",
     "output_type": "stream",
     "text": [
      "INFO:tensorflow:Assets written to: ../models/mnist_model/keras_pb_no_optimizer/assets\n"
     ]
    }
   ],
   "source": [
    "# Saving with Keras, default `.pb` format, and without the optimizer\n",
    "tf.keras.models.save_model(model, '../models/mnist_model/keras_pb_no_optimizer/', include_optimizer=False)"
   ]
  },
  {
   "cell_type": "code",
   "execution_count": 36,
   "metadata": {},
   "outputs": [],
   "source": [
    "# Saving with Keras an h5\n",
    "tf.keras.models.save_model(model, '../models/mnist_model/keras_h5/model.h5', save_format='h5')"
   ]
  },
  {
   "cell_type": "code",
   "execution_count": 37,
   "metadata": {},
   "outputs": [
    {
     "name": "stderr",
     "output_type": "stream",
     "text": [
      "WARNING:absl:Found untraced functions such as _update_step_xla while saving (showing 1 of 1). These functions will not be directly callable after loading.\n"
     ]
    },
    {
     "name": "stdout",
     "output_type": "stream",
     "text": [
      "INFO:tensorflow:Assets written to: ../models/mnist_model/tf/assets\n"
     ]
    },
    {
     "name": "stderr",
     "output_type": "stream",
     "text": [
      "INFO:tensorflow:Assets written to: ../models/mnist_model/tf/assets\n"
     ]
    }
   ],
   "source": [
    "# Saving with Tensorflow\n",
    "tf.saved_model.save(model, '../models/mnist_model/tf/')"
   ]
  },
  {
   "cell_type": "code",
   "execution_count": null,
   "metadata": {},
   "outputs": [],
   "source": []
  }
 ],
 "metadata": {
  "kernelspec": {
   "display_name": "tensorflow_cpu",
   "language": "python",
   "name": "python3"
  },
  "language_info": {
   "codemirror_mode": {
    "name": "ipython",
    "version": 3
   },
   "file_extension": ".py",
   "mimetype": "text/x-python",
   "name": "python",
   "nbconvert_exporter": "python",
   "pygments_lexer": "ipython3",
   "version": "3.11.3"
  },
  "orig_nbformat": 4
 },
 "nbformat": 4,
 "nbformat_minor": 2
}
