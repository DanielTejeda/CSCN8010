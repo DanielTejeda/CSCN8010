{
 "cells": [
  {
   "cell_type": "markdown",
   "metadata": {},
   "source": [
    "# Section 1\n",
    "This is a **random** *text*. Run this **and (format it) using _Ctrl + Enter_**\n",
    "log<sub>2</sub> <br/>\n",
    "ABC\n",
    "\n",
    "1 <br/>\n",
    "[Click here to visit Google](https://www.google.com/)\n",
    "\n",
    "![Click](../images/github_pages/github_settings_button.jpg)\n",
    "\n",
    "The content of an image link can be put into [] and then used as a link\n"
   ]
  },
  {
   "cell_type": "markdown",
   "metadata": {},
   "source": [
    "# Section 2\n",
    "Unordered list:\n",
    "- Item 1\n",
    "- Item 2\n",
    "\n",
    "Ordered list:\n",
    "1. Item 1\n",
    "2. Item 2\n",
    "\n",
    "| Attempt | #1 | #2 | #3 | #4 | #5 | #6 | #7 | #8 | #9 | #10 \n",
    "| :---: | :---: | :---: | :---: | :---: | :---: | :---: | :---: | :---: | :---: | :---:\n",
    "| Seconds | 301 | 283 | 290 | 286 | 289 | 285 | 287 | 287 | 272 | 276 \n"
   ]
  }
 ],
 "metadata": {
  "kernelspec": {
   "display_name": "CSCN8010_classical_ml",
   "language": "python",
   "name": "python3"
  },
  "language_info": {
   "name": "python",
   "version": "3.12.7"
  }
 },
 "nbformat": 4,
 "nbformat_minor": 2
}
